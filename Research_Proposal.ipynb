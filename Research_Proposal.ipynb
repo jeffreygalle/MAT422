{
  "nbformat": 4,
  "nbformat_minor": 0,
  "metadata": {
    "colab": {
      "provenance": [],
      "toc_visible": true,
      "authorship_tag": "ABX9TyP5eYJU64GseGbQRrX5SC2n",
      "include_colab_link": true
    },
    "kernelspec": {
      "name": "python3",
      "display_name": "Python 3"
    },
    "language_info": {
      "name": "python"
    }
  },
  "cells": [
    {
      "cell_type": "markdown",
      "metadata": {
        "id": "view-in-github",
        "colab_type": "text"
      },
      "source": [
        "<a href=\"https://colab.research.google.com/github/jeffreygalle/MAT422/blob/main/Research_Proposal.ipynb\" target=\"_parent\"><img src=\"https://colab.research.google.com/assets/colab-badge.svg\" alt=\"Open In Colab\"/></a>"
      ]
    },
    {
      "cell_type": "markdown",
      "source": [
        "# Research Proposal: CLD Mortality Project\n",
        "\n",
        "Chronic Liver Disease (CLD) and cirrhosis are significant public health concerns in the United States, contributing to substantial mortality rates annually. CLD is characterized by long-term deterioration in liver function, often culminating in irreversible damage such as fibrosis and cirrhosis.\n",
        "\n",
        "This research aims to analyze CLD mortality trends and disparities across the U.S., with a particular focus on Arizona. Arizona presents unique challenges, including elevated mortality rates among Native American populations and counties with lower median incomes. By leveraging advanced data analysis techniques, this project seeks to identify patterns, contributing factors, and actionable insights to reduce the burden of CLD"
      ],
      "metadata": {
        "id": "B8fIPMV06TLS"
      }
    },
    {
      "cell_type": "markdown",
      "source": [
        "## Research Objectives\n",
        "\n",
        "\n",
        "\n",
        "1.   Examine national trends in CLD mortality from 1999 to 2022\n",
        "2.   Identify and quantify regional disparities, focusing on differences between Southwest and Mid-Atlantic states\n",
        "3. Investigate the relationship between socioeconomic indicators (e.g., income, poverty) and CLD mortality rates, **particularly in Arizona**\n",
        "4. Explore racial disparities in CLD mortality, with an emphasis on Native American and White populations\n",
        "5. Utilize clustering algorithms to group states and counties based on mortality trends and associated factors, uncovering underlying patterns\n"
      ],
      "metadata": {
        "id": "MQv4gxrM7C-B"
      }
    },
    {
      "cell_type": "markdown",
      "source": [
        "## Significance of the Study\n",
        "\n",
        "\n",
        "\n",
        "*   Provide important insights into regions with disproportionately high mortality rates\n",
        "*   Highlight the socioeconomic and racial factors that exacerbate CLD mortality\n",
        "*   Inform policymakers and public health officials to design targeted interventions aimed at reducing disparities\n",
        "\n",
        "\n",
        "\n"
      ],
      "metadata": {
        "id": "Sy39z2vI7WzC"
      }
    },
    {
      "cell_type": "markdown",
      "source": [
        "## Methodology\n",
        "\n",
        "\n",
        "\n",
        "1.   **Data Sources**\n",
        "\n",
        "\n",
        "*   CDC WONDER database for national mortality and demographic data\n",
        "*   National Institute on Minority Health and Health Disparities for income and poverty data\n",
        "*   Arizona Department of Health Services annual reports for state-level data, including income and racial demographics\n",
        "\n",
        "2.   **Mathematical and Statistical Methods**\n",
        "  \n",
        "  2.1   Regression Analysis\n",
        "    *   Model trends in mortality rates over time\n",
        "    *   Find correlations between income, race, and mortality rates (e.g., Pearson correlation coefficients and linear regression)\n",
        "    *   Generate predictive models for mortality trends\n",
        "\n",
        "  2.2   Clustering Algorithms:\n",
        "    *   Hierarchical clustering (Ward’s linkage) to group states and counties based on mortality rates.\n",
        "    *   K-means clustering to analyze the distribution of demographic and socioeconomic characteristics.\n",
        "  2.3   Exponential Curve Fitting:\n",
        "    *   Fit exponential models to capture growth trends in mortality rates across clusters.\n",
        "  2.4   Statistical Significance Testing:\n",
        "    *   ANOVA and Tukey’s HSD post hoc tests to determine significant differences in mortality rates among clusters and regions\n",
        "  2.5   Comparative Analysis:\n",
        "    *   Compare mortality trends between regions (e.g., Southwest vs. Mid-Atlantic) and between racial groups in Arizona\n",
        "\n",
        "3. **Visualization:**\n",
        "*   Use Python and Excel for data visualization and computation\n",
        "*   Develop line charts, bar graphs, heat maps, and dendrograms to illustrate key findings\n",
        "\n",
        "\n",
        "\n"
      ],
      "metadata": {
        "id": "DBHooBMs7ls_"
      }
    },
    {
      "cell_type": "markdown",
      "source": [
        "## Outcomes\n",
        "\n",
        "1. In depth understanding of how CLD mortality trends vary across regions and demographics.\n",
        "\n",
        "2. Identification of clusters of states/ counties with similar mortality patterns, highlights areas for targeted interventions.\n",
        "\n",
        "3. Quantification of the relationship between income and mortality rates, revealing how socioeconomic impact disparities.\n",
        "\n",
        "\n",
        "4. Insights into racial disparities, particularly the disproportionate impact of CLD on Native American populations in Arizona.\n",
        "\n",
        "\n",
        "5. Provide evidence-based recommendations for policymakers and public health officials to address the growing burden of CLD.\n"
      ],
      "metadata": {
        "id": "uQAknWtO9Gj8"
      }
    }
  ]
}