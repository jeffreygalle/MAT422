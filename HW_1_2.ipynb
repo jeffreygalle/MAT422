{
  "nbformat": 4,
  "nbformat_minor": 0,
  "metadata": {
    "colab": {
      "provenance": [],
      "toc_visible": true,
      "authorship_tag": "ABX9TyMDPMTsrcU7zwwU/m8y9oy4",
      "include_colab_link": true
    },
    "kernelspec": {
      "name": "python3",
      "display_name": "Python 3"
    },
    "language_info": {
      "name": "python"
    }
  },
  "cells": [
    {
      "cell_type": "markdown",
      "metadata": {
        "id": "view-in-github",
        "colab_type": "text"
      },
      "source": [
        "<a href=\"https://colab.research.google.com/github/jeffreygalle/MAT422/blob/main/HW_1_2.ipynb\" target=\"_parent\"><img src=\"https://colab.research.google.com/assets/colab-badge.svg\" alt=\"Open In Colab\"/></a>"
      ]
    },
    {
      "cell_type": "markdown",
      "source": [
        "# 1.2 Linear Spaces\n",
        "**Linear space**: A set of objects called vectors, that can be added and multiplied together by scalars. We can perform linear operations like addition and scalar multiplication.\n",
        "\n",
        "\n"
      ],
      "metadata": {
        "id": "c_SeTgo4vJWY"
      }
    },
    {
      "cell_type": "markdown",
      "source": [
        "# 1.2.1.1 Linear Combinations:\n",
        "A linear combination in linear algebra is a new vector constructed from a subset by multiplying each vector by a constant and adding the results. A linear subspace is a result of linear combination.\n",
        "\n",
        "Linear subspace definiton: It is a space within a larger space that can be formed by combining vectors. It is a subset of a vector space that is closed under addition and scalar multiplication.\n",
        "\n",
        "Span defintion: Set of all possible vectors can be created by taking linear combinations of a given set of vectors within a vector space.\n",
        "\n",
        "Column space defintion: Span of the column vectors. It includes all possible linear combinations of the columns of the matrix.\n",
        "\n",
        "Column space Example:\n",
        "Given matrix A = \\begin{bmatrix} 1 & 3 \\\\ 2 & 6 \\end{bmatrix} the two column vectors are v1 = \\begin{bmatrix} 1 \\\\ 2 \\end{bmatrix} and v2 = \\begin{bmatrix} 3 \\\\ 6 \\end{bmatrix}.\n"
      ],
      "metadata": {
        "id": "QZO5hYZVyUaJ"
      }
    },
    {
      "cell_type": "code",
      "source": [
        "# 1.2.1.1 Linear combinations of vectors\n",
        "\n",
        "import numpy as np\n",
        "\n",
        "# intialize vectors\n",
        "v1 = np.array([1, 2, 3])\n",
        "v2 = np.array([4, 5, 6])\n",
        "v3 = np.array([7, 8, 9])\n",
        "\n",
        "# coefficients for vectors\n",
        "c1 = 0.5\n",
        "c2 = -1.5\n",
        "c3 = 2\n",
        "\n",
        "# linear combination\n",
        "w = c1 * v1 + c2 * v2 + c3 * v3\n",
        "\n",
        "print(\"vector v1:\", v1)\n",
        "print(\"vector v2:\", v2)\n",
        "print(\"vector v3:\", v3)\n",
        "print(\"coefficients: c1 =\", c1, \", c2 =\", c2, \", c3 =\", c3)\n",
        "print(\"Linear Combination (w):\", w)\n"
      ],
      "metadata": {
        "colab": {
          "base_uri": "https://localhost:8080/"
        },
        "id": "x32jxidrwCGt",
        "outputId": "21f8174a-076b-46d8-f903-2ed4b8192025"
      },
      "execution_count": 1,
      "outputs": [
        {
          "output_type": "stream",
          "name": "stdout",
          "text": [
            "vector v1: [1 2 3]\n",
            "vector v2: [4 5 6]\n",
            "vector v3: [7 8 9]\n",
            "coefficients: c1 = 0.5 , c2 = -1.5 , c3 = 2\n",
            "Linear Combination (w): [ 8.5  9.5 10.5]\n"
          ]
        }
      ]
    },
    {
      "cell_type": "markdown",
      "source": [
        "# 1.2.1.2 Linear Independence and Dimension\n",
        "Linear Independence defintion: A set of vectors is linearly independent if the only scalars that can produce a zero vector, when multiplied with the given vectors and then added together, are all zero. This means that no vector in the set is a linear combination of the others.\n",
        "\n",
        "Example:\n",
        "\n",
        "Two vectors in two-dimensional space, u = \\begin{bmatrix} 1 \\\\ 0 \\end{bmatrix} and v = \\begin{bmatrix} 0 \\\\ 1 \\end{bmatrix} \\.\n",
        "\n",
        "The span of these vectors is the set of all possible linear combinations of u and v. Any vector w in this space can be written as w = (a x u) + (b x v), where a and b are scalars.\n",
        "\n",
        "Basis of a space defintion: The basis of a vector space is the set of vectors that are linear independent and span the entire space."
      ],
      "metadata": {
        "id": "SY4hejpNy2Tu"
      }
    },
    {
      "cell_type": "markdown",
      "source": [
        "\n",
        "# 1.2.2 Orthogonality\n",
        "Norm defintion: Measures its length or magnitude of a vector. Denoted by ||v||. The norm is non-negative and equal to zero only if the vector is the zero vector.\n",
        "\n",
        "# 1.2.2.1 Orthonormal Bases\n",
        "Inner product defn: Takes two vectors and produces a scalar. It measures the angle between two vectors. Denoted by <u, v>, where u and v are vectors.\n",
        "\n",
        "Orthonormal defn: Each vector is both perpendicular to every other vector in the set and has a norm of 1. They are both perpendicular and normalized.\n",
        "\n",
        "Orthonormal example:\n",
        "\n",
        "The vectors u = \\begin{bmatrix} 1 \\\\ 0 \\end{bmatrix} and v = \\begin{bmatrix} 0 \\\\ 1 \\end{bmatrix} are orthonormal. They are perpendicular to each other and both have a length of 1.\n",
        "\n",
        "Orthogonal Projection defintion: The closest point on that line or subspace to the given point. Obtained by drawing a line perpendicular to the line or subspace and passing through the given point. The intersection of this perpendicular line with the line or subspace is the orthogonal projection point.\n",
        "\n",
        "Orthogonal Projection example:\n",
        "\n",
        "Given a point (4, 2) and a line L defined by the equation y = 2x. To find the orthogonal projection of P onto L, draw a perpendicular line from P to L. The point where the perpendicular line intersects L is the orthogonal projection point.The orthogonal projection point would be (2, 4).\n",
        "\n"
      ],
      "metadata": {
        "id": "Tvz5sAWryOtD"
      }
    },
    {
      "cell_type": "markdown",
      "source": [
        "# 1.2.3 Gram-Schmidt Process\n",
        "\n",
        "This method is used to orthogonalize (to transform into a set that is mutually perpendicular) a set of vectors. The Gram-Schmidt Process takes a **linear independen set of vectors** and transforms them into orthogonal set that will span the same subspace.\n",
        "\n",
        "\n",
        "Steps\n",
        "\n",
        "\n",
        "1.   Given a set of linearly independent vectors {v1, v2, v3, ..., vn}\n",
        "2.   Orthogonalize: subtract projection of each vector onto previous orthogonalized vectors.\n",
        "3. Normalize the Orthogonal vectors to obtain an orthonormal set of vectors.\n",
        "\n"
      ],
      "metadata": {
        "id": "S3f38Lq6zR1c"
      }
    },
    {
      "cell_type": "code",
      "source": [
        "# Define vectors v1, v2, v3\n",
        "v1 = np.array([1, 1, 0])\n",
        "v2 = np.array([1, 0, 1])\n",
        "v3 = np.array([0, 1, 1])\n",
        "\n",
        "# orthogonalize v1\n",
        "u1 = v1\n",
        "\n",
        "# orthogonalize v2\n",
        "proj_u1_v2 = np.dot(v2, u1) / np.dot(u1, u1) * u1\n",
        "u2 = v2 - proj_u1_v2\n",
        "\n",
        "# orthogonalize v3\n",
        "proj_u1_v3 = np.dot(v3, u1) / np.dot(u1, u1) * u1\n",
        "proj_u2_v3 = np.dot(v3, u2) / np.dot(u2, u2) * u2 if np.dot(u2, u2) != 0 else np.zeros_like(v3)\n",
        "u3 = v3 - proj_u1_v3 - proj_u2_v3\n",
        "\n",
        "orthogonal_vectors = np.array([u1, u2, u3])\n",
        "orthogonal_vectors\n"
      ],
      "metadata": {
        "colab": {
          "base_uri": "https://localhost:8080/"
        },
        "id": "GTTHNVDv-Hio",
        "outputId": "3bbfaef3-5022-45b0-ad10-feaf290760dc"
      },
      "execution_count": 3,
      "outputs": [
        {
          "output_type": "execute_result",
          "data": {
            "text/plain": [
              "array([[ 1.        ,  1.        ,  0.        ],\n",
              "       [ 0.5       , -0.5       ,  1.        ],\n",
              "       [-0.66666667,  0.66666667,  0.66666667]])"
            ]
          },
          "metadata": {},
          "execution_count": 3
        }
      ]
    },
    {
      "cell_type": "markdown",
      "source": [
        "# 1.2.4 Eigenvalues and Eigenvectors\n",
        "\n",
        "The eigenvectors of matrix are non-zero vectors that change only by a scalar factor when a linear transformation is applied to the vectors. Example: For a square matrix A and some vector v: Av = λv, v is an eigenvector of A, and λ is the eigenvalue.\n",
        "\n",
        "Eigenvalues defintion: Represent scalar values by which a matrix can stretch or shrink a vector when multiplied by it.\n",
        "\n",
        "\n",
        "\n",
        "Eigenvalues Example:\n",
        "Given a 2x2 matrix A and a vector v. If Av is equal to a scalar multiple of v λv, then λ is an eigenvalue of matrix A and v is the corresponding eigenvector. The eigenvalue λ tells us the factor by which the vector v is scaled when multiplied by matrix A."
      ],
      "metadata": {
        "id": "ExLEu7YBzPTd"
      }
    },
    {
      "cell_type": "code",
      "source": [
        "#Finding eigenvalues and eigenvectors in Python with numpy.linalg\n",
        "\n",
        "import numpy as np\n",
        "from numpy.linalg import eig\n",
        "\n",
        "a = np.array([[0, 2],\n",
        "              [2, 3]])\n",
        "w,v=eig(a)\n",
        "\n",
        "print('\\nMatrix A:\\n', a)\n",
        "print('\\nEigenvalue:\\n', w)\n",
        "print('\\nEigenvector\\n', v)\n"
      ],
      "metadata": {
        "colab": {
          "base_uri": "https://localhost:8080/"
        },
        "id": "hps7ojwW8Gfj",
        "outputId": "111e0ad8-ab0e-4403-9c1a-06bb79f0fac8"
      },
      "execution_count": 15,
      "outputs": [
        {
          "output_type": "stream",
          "name": "stdout",
          "text": [
            "\n",
            "Matrix A:\n",
            " [[0 2]\n",
            " [2 3]]\n",
            "\n",
            "Eigenvalue:\n",
            " [-1.  4.]\n",
            "\n",
            "Eigenvector\n",
            " [[-0.89442719 -0.4472136 ]\n",
            " [ 0.4472136  -0.89442719]]\n"
          ]
        }
      ]
    }
  ]
}